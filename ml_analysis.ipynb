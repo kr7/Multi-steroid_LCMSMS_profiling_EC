{
 "cells": [
  {
   "cell_type": "code",
   "execution_count": 1,
   "id": "cc671b14",
   "metadata": {},
   "outputs": [],
   "source": [
    "import numpy as np\n",
    "import pandas as pd\n",
    "import matplotlib.pyplot as plt\n",
    "\n",
    "from random import gauss\n",
    "\n",
    "from sklearn.tree import DecisionTreeClassifier\n",
    "from sklearn.naive_bayes import GaussianNB\n",
    "from sklearn.neighbors import KNeighborsClassifier\n",
    "from sklearn.linear_model import LogisticRegression\n",
    "from sklearn.neural_network import MLPClassifier\n",
    "from sklearn.decomposition import PCA\n",
    "from sklearn.ensemble import GradientBoostingClassifier, RandomForestClassifier\n",
    "\n",
    "from sklearn.model_selection import StratifiedKFold\n",
    "import sklearn.metrics as metrics\n",
    "\n",
    "from sklearn.metrics import RocCurveDisplay, auc"
   ]
  },
  {
   "cell_type": "code",
   "execution_count": 2,
   "id": "d165b9d0",
   "metadata": {},
   "outputs": [],
   "source": [
    "# load data\n",
    "data0 = pd.read_csv(\"EC_METADATA_STEROID_PROFILING_LCMSMS_BIRMINGHAM_2023_FINAL_03July23.csv\")"
   ]
  },
  {
   "cell_type": "code",
   "execution_count": 3,
   "id": "b1d122a2",
   "metadata": {},
   "outputs": [],
   "source": [
    "def binary_label_thr(label, thr):\n",
    "    if label > thr:\n",
    "        return 1\n",
    "    else:\n",
    "        return 0\n",
    "\n",
    "def augment_data(data, labels, sigma, n):\n",
    "    mu = 0\n",
    "    num_instances = len(data)\n",
    "    augmented_data = np.zeros( (n*num_instances, len(data[0])) )\n",
    "    augmented_labels = np.zeros( (n*num_instances) )\n",
    "    for i in range(n):\n",
    "        augmented_data[i*num_instances:(i+1)*num_instances,:] = data\n",
    "        augmented_labels[i*num_instances:(i+1)*num_instances] = labels\n",
    "    for i in range(1,n):\n",
    "        for j in range(num_instances):\n",
    "            for k in range(len(augmented_data[i])):\n",
    "                augmented_data[i*num_instances+j,k] = augmented_data[i*num_instances+j,k] + gauss(mu, sigma)\n",
    "    return augmented_data, augmented_labels"
   ]
  },
  {
   "cell_type": "code",
   "execution_count": 4,
   "id": "4e809fb9",
   "metadata": {},
   "outputs": [],
   "source": [
    "complete_columns = []\n",
    "for column in data0:\n",
    "    num_missing = data0[column].isnull().sum()\n",
    "    if num_missing > 0:\n",
    "        print(f\"{num_missing:2} {column} \")\n",
    "    if num_missing == 0 and column != 'Grade':\n",
    "        complete_columns.append(column)"
   ]
  },
  {
   "cell_type": "code",
   "execution_count": 5,
   "id": "d51ee1ab",
   "metadata": {},
   "outputs": [],
   "source": [
    "# the first two columns (SampleID, Type) are excluded from the input variables of the model\n",
    "ml_features = complete_columns[2:]"
   ]
  },
  {
   "cell_type": "code",
   "execution_count": 6,
   "id": "8ac20857",
   "metadata": {},
   "outputs": [],
   "source": [
    "labels = []\n",
    "for lab in data0[\"Type\"]:\n",
    "    if lab == 'Case':\n",
    "        labels.append(1)\n",
    "    elif lab == 'Control':\n",
    "        labels.append(0)\n",
    "    else:\n",
    "        raise Exception(f\"Unexpected label: {lab}\")\n",
    "labels = np.array(labels)\n",
    "\n",
    "data = data0[ ml_features ]  \n",
    "data = np.array(data)"
   ]
  },
  {
   "cell_type": "code",
   "execution_count": 7,
   "id": "e9835d83",
   "metadata": {},
   "outputs": [],
   "source": [
    "transform = 'normalize' \n",
    "augment = True\n",
    "features = [0,16,12] # selected features: BMI, 11bOHT_nM, T_nM "
   ]
  },
  {
   "cell_type": "code",
   "execution_count": 9,
   "id": "69e9d1ef",
   "metadata": {
    "scrolled": true
   },
   "outputs": [],
   "source": [
    "num_outer_folds = 5\n",
    "num_inner_folds = 5\n",
    "\n",
    "#Parameters of data augmentation\n",
    "sigma = 1\n",
    "n = 10\n",
    "\n",
    "all_auc = []\n",
    "all_pred_train = []\n",
    "all_labels_train = []\n",
    "all_auc_train = []\n",
    "\n",
    "sensitivity = []\n",
    "specificity = []\n",
    "\n",
    "tprs = []\n",
    "mean_fpr = np.linspace(0, 1, 100)\n",
    "\n",
    "\n",
    "for outer_fold in range(num_outer_folds):\n",
    "    skf = StratifiedKFold(num_inner_folds, shuffle=True, random_state = outer_fold)\n",
    "    splits = skf.split(data, labels)\n",
    "    \n",
    "    for train_idx, test_idx in splits:\n",
    "        train_data = data[train_idx][:, features]\n",
    "        train_labels = labels[train_idx]\n",
    "        test_data = data[test_idx][:, features]\n",
    "        test_labels = labels[test_idx]\n",
    "        \n",
    "        if transform=='normalize':\n",
    "            col_means = np.mean(train_data,0)\n",
    "            col_stds = np.std(train_data,0)\n",
    "            for i in range(len(col_means)):\n",
    "                train_data[:,i]=(train_data[:,i]-col_means[i])/col_stds[i]\n",
    "                test_data[:,i]=(test_data[:,i]-col_means[i])/col_stds[i]\n",
    "        elif transform!='none':\n",
    "            raise Exception(f\"Unknown transform: {transform}\")\n",
    "            \n",
    "\n",
    "        if augment:\n",
    "            train_data, train_labels = augment_data(train_data, train_labels, sigma, n )\n",
    "\n",
    "        model = LogisticRegression(C=1, penalty='l2', max_iter=int(1e4), solver='liblinear') \n",
    "        model.fit(train_data, train_labels)\n",
    "        \n",
    "        pred = model.predict_proba(test_data)\n",
    "        \n",
    "        thr = 0.45\n",
    "        binary_pred = np.array( [ binary_label_thr(pred[i,1], thr) for i in range(len(pred)) ] )\n",
    "   \n",
    "        tp = np.sum(np.logical_and(binary_pred == 1, test_labels==1))\n",
    "        tn = np.sum(np.logical_and(binary_pred == 0, test_labels==0))\n",
    "        fp = np.sum(np.logical_and(binary_pred == 1, test_labels==0))\n",
    "        fn = np.sum(np.logical_and(binary_pred == 0, test_labels==1))\n",
    "    \n",
    "        sensitivity.append(tp / (tp+fn))\n",
    "        specificity.append(tn / (tn+fp))\n",
    "        \n",
    "        fpr, tpr, _ = metrics.roc_curve(test_labels, pred[:,1] )\n",
    "        roc_auc = metrics.auc(fpr, tpr)\n",
    "        all_auc.append(roc_auc)\n",
    "        \n",
    "        interp_tpr = np.interp(mean_fpr, fpr, tpr)\n",
    "        interp_tpr[0] = 0.0\n",
    "        tprs.append(interp_tpr)\n",
    "    \n",
    "        pred_train = model.predict_proba(train_data)\n",
    "        all_pred_train = all_pred_train + list(pred_train[:,1])\n",
    "        all_labels_train = all_labels_train + list(train_labels)\n",
    "        \n",
    "        fpr, tpr, _ = metrics.roc_curve(train_labels, pred_train[:,1] )\n",
    "        roc_auc = metrics.auc(fpr, tpr)\n",
    "        all_auc_train.append(roc_auc)"
   ]
  },
  {
   "cell_type": "code",
   "execution_count": 10,
   "id": "8e81d890",
   "metadata": {},
   "outputs": [
    {
     "data": {
      "text/plain": [
       "0.06017698540902429"
      ]
     },
     "execution_count": 10,
     "metadata": {},
     "output_type": "execute_result"
    }
   ],
   "source": [
    "np.std(all_auc)"
   ]
  },
  {
   "cell_type": "code",
   "execution_count": 11,
   "id": "acd4487d",
   "metadata": {},
   "outputs": [
    {
     "data": {
      "text/plain": [
       "0.6646153846153847"
      ]
     },
     "execution_count": 11,
     "metadata": {},
     "output_type": "execute_result"
    }
   ],
   "source": [
    "np.mean(sensitivity)"
   ]
  },
  {
   "cell_type": "code",
   "execution_count": 12,
   "id": "544f2abc",
   "metadata": {},
   "outputs": [
    {
     "data": {
      "text/plain": [
       "0.1008139132357565"
      ]
     },
     "execution_count": 12,
     "metadata": {},
     "output_type": "execute_result"
    }
   ],
   "source": [
    "np.std(sensitivity)"
   ]
  },
  {
   "cell_type": "code",
   "execution_count": 13,
   "id": "a662270e",
   "metadata": {},
   "outputs": [
    {
     "data": {
      "text/plain": [
       "0.6685714285714286"
      ]
     },
     "execution_count": 13,
     "metadata": {},
     "output_type": "execute_result"
    }
   ],
   "source": [
    "np.mean(specificity)"
   ]
  },
  {
   "cell_type": "code",
   "execution_count": 14,
   "id": "017e6036",
   "metadata": {},
   "outputs": [
    {
     "data": {
      "text/plain": [
       "0.09450191662023559"
      ]
     },
     "execution_count": 14,
     "metadata": {},
     "output_type": "execute_result"
    }
   ],
   "source": [
    "np.std(specificity)"
   ]
  },
  {
   "cell_type": "markdown",
   "id": "05bede62",
   "metadata": {},
   "source": [
    "# ROC on TEST data"
   ]
  },
  {
   "cell_type": "code",
   "execution_count": 15,
   "id": "40680ae9",
   "metadata": {
    "scrolled": false
   },
   "outputs": [
    {
     "data": {
      "image/png": "[encoded data removed]",
      "text/plain": [
       "<Figure size 325x200 with 1 Axes>"
      ]
     },
     "metadata": {},
     "output_type": "display_data"
    }
   ],
   "source": [
    "fig = plt.figure(figsize=(3.25, 2.00))\n",
    "\n",
    "mean_tpr = np.mean(tprs, axis=0)\n",
    "mean_tpr[-1] = 1.0\n",
    "mean_auc = auc(mean_fpr, mean_tpr)\n",
    "std_auc = np.std(all_auc)\n",
    "plt.plot(\n",
    "    mean_fpr,\n",
    "    mean_tpr,\n",
    "    color='#0f4c8aff',\n",
    "    label=r\"ROC (AUC: %0.2f$\\pm$%0.2f)\" % (mean_auc, std_auc),\n",
    "    lw=2,\n",
    ")\n",
    "\n",
    "std_tpr = np.std(tprs, axis=0)\n",
    "tprs_upper = np.minimum(mean_tpr + std_tpr, 1)\n",
    "tprs_lower = np.maximum(mean_tpr - std_tpr, 0)\n",
    "plt.fill_between(\n",
    "    mean_fpr,\n",
    "    tprs_lower,\n",
    "    tprs_upper,\n",
    "    color=\"grey\",\n",
    "    alpha=0.2\n",
    ")\n",
    "\n",
    "plt.xlim([0, 1])\n",
    "plt.ylim([0, 1])\n",
    "plt.legend(loc=\"lower right\")\n",
    "plt.savefig(\"ROC_cv_test_3.25x2.00.svg\", format='svg')"
   ]
  },
  {
   "cell_type": "markdown",
   "id": "ab58acb4",
   "metadata": {},
   "source": [
    " # ROC on TRAINING data"
   ]
  },
  {
   "cell_type": "code",
   "execution_count": 16,
   "id": "930ab2f1",
   "metadata": {},
   "outputs": [
    {
     "data": {
      "image/png": "[encoded data removed]",
      "text/plain": [
       "<Figure size 325x200 with 1 Axes>"
      ]
     },
     "metadata": {},
     "output_type": "display_data"
    }
   ],
   "source": [
    "fpr, tpr, _ = metrics.roc_curve(all_labels_train, all_pred_train )\n",
    "roc_auc = metrics.auc(fpr, tpr)\n",
    "        \n",
    "fig = plt.figure(figsize=(3.25, 2.00))\n",
    "plt.plot(fpr, tpr, alpha=0.5, label = f'AUC = {roc_auc:0.3f} \\u00B1 {np.std(all_auc_train):0.3f}', color='#0f4c8aff')\n",
    "plt.legend(loc = 'lower right')\n",
    "plt.xlim([0, 1])\n",
    "plt.ylim([0, 1])\n",
    "plt.savefig(\"ROC_cv_training_3.25x2.00.svg\", format='svg')"
   ]
  },
  {
   "cell_type": "code",
   "execution_count": null,
   "id": "ea48376f",
   "metadata": {},
   "outputs": [],
   "source": []
  }
 ],
 "metadata": {
  "kernelspec": {
   "display_name": "Python 3 (ipykernel)",
   "language": "python",
   "name": "python3"
  },
  "language_info": {
   "codemirror_mode": {
    "name": "ipython",
    "version": 3
   },
   "file_extension": ".py",
   "mimetype": "text/x-python",
   "name": "python",
   "nbconvert_exporter": "python",
   "pygments_lexer": "ipython3",
   "version": "3.9.16"
  }
 },
 "nbformat": 4,
 "nbformat_minor": 5
}
